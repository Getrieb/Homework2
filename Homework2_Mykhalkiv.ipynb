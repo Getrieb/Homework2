{
 "cells": [
  {
   "cell_type": "code",
   "execution_count": 79,
   "id": "75d5f74c",
   "metadata": {},
   "outputs": [
    {
     "name": "stdout",
     "output_type": "stream",
     "text": [
      "A = 2\n",
      "B = -3\n"
     ]
    },
    {
     "data": {
      "text/plain": [
       "True"
      ]
     },
     "execution_count": 79,
     "metadata": {},
     "output_type": "execute_result"
    }
   ],
   "source": [
    "                                                    #ЗАВДАННЯ 1\n",
    "                                            # Задано деякі числа A та B (int):\n",
    "    \n",
    "    # 1.1. Перевірити умову: \"Число A є додатнє\"\n",
    "A = int(input('A = '))\n",
    "B = int(input('B = '))\n",
    "A > 0"
   ]
  },
  {
   "cell_type": "code",
   "execution_count": 78,
   "id": "fd6b1f6f",
   "metadata": {},
   "outputs": [
    {
     "name": "stdout",
     "output_type": "stream",
     "text": [
      "A = 42\n",
      "B = 33\n",
      "True - число А парне;    False - число B непарне\n"
     ]
    }
   ],
   "source": [
    "    # 1.2. Перевірити умову: \"Число A парне\"\n",
    "A = int(input('A = '))\n",
    "B = int(input('B = '))\n",
    "print(A % 2 == 0, '- число А парне;', end='    ')\n",
    "print(B % 2 == 0, '- число B непарне')"
   ]
  },
  {
   "cell_type": "code",
   "execution_count": 77,
   "id": "752894e5",
   "metadata": {},
   "outputs": [
    {
     "name": "stdout",
     "output_type": "stream",
     "text": [
      "n = 13\n",
      "True - обчислене число А = 221 кратне 13\n"
     ]
    }
   ],
   "source": [
    "    # 1.3. Перевірити умову: \"Число A кратне 13\"\n",
    "n = int(input('n = '))\n",
    "A = 17 * n\n",
    "print(A % 13 == 0, '- обчислене число А = %s кратне 13' % A)    "
   ]
  },
  {
   "cell_type": "code",
   "execution_count": 80,
   "id": "c64e59b2",
   "metadata": {},
   "outputs": [
    {
     "name": "stdout",
     "output_type": "stream",
     "text": [
      "A = 24\n",
      "B = 36\n"
     ]
    },
    {
     "data": {
      "text/plain": [
       "True"
      ]
     },
     "execution_count": 80,
     "metadata": {},
     "output_type": "execute_result"
    }
   ],
   "source": [
    "    # 1.4. Перевірити умову: \"Кожне із чисел A та B - парне\"\n",
    "A = int(input('A = '))\n",
    "B = int(input('B = '))\n",
    "A % 2 == 0 and B % 2 == 0"
   ]
  },
  {
   "cell_type": "code",
   "execution_count": 74,
   "id": "d574a1f3",
   "metadata": {},
   "outputs": [
    {
     "name": "stdout",
     "output_type": "stream",
     "text": [
      "A = 74\n",
      "B = 12\n",
      "True\n"
     ]
    }
   ],
   "source": [
    "    # 1.5. Перевірити умову: \"Кожне із чисел A та B мають однакову парність \"\n",
    "A = int(input('A = '))\n",
    "B = int(input('B = '))\n",
    "print(A % 2 == B % 2)"
   ]
  },
  {
   "cell_type": "code",
   "execution_count": 102,
   "id": "12552d4a",
   "metadata": {},
   "outputs": [
    {
     "name": "stdout",
     "output_type": "stream",
     "text": [
      "Задати пароль: gft@jh#j\n",
      "True\n"
     ]
    }
   ],
   "source": [
    "                                                    #ЗАВДАННЯ 2\n",
    "    # Задано деякий пароль Pass (str). Перевірити чи пароль \"сильний\" (пароль будемо вважати \"сильним\", \n",
    "    # якщо він складається з 8 символів (або більше) та містить символ @ або #). Програма повертає True або False\n",
    "\n",
    "Pass = input('Задати пароль: ' )\n",
    "if len(Pass) == 8 and '@' in Pass and '#' in Pass:\n",
    "    print('True')\n",
    "else:\n",
    "    print('False')"
   ]
  },
  {
   "cell_type": "code",
   "execution_count": null,
   "id": "cc15c638",
   "metadata": {},
   "outputs": [],
   "source": [
    "                                                    #ЗАВДАННЯ 3\n",
    "    # Дано деякий символ Char. Вивести символи, що ідуть перед та після символу Char в кодовій таблиці ASCII"
   ]
  },
  {
   "cell_type": "code",
   "execution_count": 15,
   "id": "904623e7",
   "metadata": {},
   "outputs": [
    {
     "name": "stdout",
     "output_type": "stream",
     "text": [
      "owT enO\n"
     ]
    }
   ],
   "source": [
    "                                                    #ЗАВДАННЯ 4\n",
    "    # Дана стрічка, що складається із двох слів розділених пробілом.Слова та порядок букв в словах поміняйте \n",
    "    # місцями. (Наприклад, \"One Two\" --> \"owT enO\")\n",
    "\n",
    "str_1= 'One Two'[::-1]\n",
    "print(str_1)"
   ]
  },
  {
   "cell_type": "code",
   "execution_count": null,
   "id": "e744b80a",
   "metadata": {},
   "outputs": [],
   "source": []
  }
 ],
 "metadata": {
  "kernelspec": {
   "display_name": "Python 3 (ipykernel)",
   "language": "python",
   "name": "python3"
  },
  "language_info": {
   "codemirror_mode": {
    "name": "ipython",
    "version": 3
   },
   "file_extension": ".py",
   "mimetype": "text/x-python",
   "name": "python",
   "nbconvert_exporter": "python",
   "pygments_lexer": "ipython3",
   "version": "3.9.7"
  }
 },
 "nbformat": 4,
 "nbformat_minor": 5
}
